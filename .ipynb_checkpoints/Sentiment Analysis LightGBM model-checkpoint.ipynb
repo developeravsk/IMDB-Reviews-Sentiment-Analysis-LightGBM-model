{
 "cells": [
  {
   "cell_type": "code",
   "execution_count": 2,
   "id": "second-timer",
   "metadata": {},
   "outputs": [],
   "source": [
    "# import necessary libraries\n",
    "import pandas as pd"
   ]
  },
  {
   "cell_type": "code",
   "execution_count": 3,
   "id": "surface-entry",
   "metadata": {},
   "outputs": [],
   "source": [
    "#loading training data into pandas dataframe using csv file\n",
    "imdb_reviews=pd.read_csv('Train.csv')"
   ]
  },
  {
   "cell_type": "code",
   "execution_count": 4,
   "id": "limiting-disorder",
   "metadata": {},
   "outputs": [
    {
     "data": {
      "text/html": [
       "<div>\n",
       "<style scoped>\n",
       "    .dataframe tbody tr th:only-of-type {\n",
       "        vertical-align: middle;\n",
       "    }\n",
       "\n",
       "    .dataframe tbody tr th {\n",
       "        vertical-align: top;\n",
       "    }\n",
       "\n",
       "    .dataframe thead th {\n",
       "        text-align: right;\n",
       "    }\n",
       "</style>\n",
       "<table border=\"1\" class=\"dataframe\">\n",
       "  <thead>\n",
       "    <tr style=\"text-align: right;\">\n",
       "      <th></th>\n",
       "      <th>text</th>\n",
       "      <th>label</th>\n",
       "    </tr>\n",
       "  </thead>\n",
       "  <tbody>\n",
       "    <tr>\n",
       "      <th>0</th>\n",
       "      <td>I grew up (b. 1965) watching and loving the Th...</td>\n",
       "      <td>0</td>\n",
       "    </tr>\n",
       "    <tr>\n",
       "      <th>1</th>\n",
       "      <td>When I put this movie in my DVD player, and sa...</td>\n",
       "      <td>0</td>\n",
       "    </tr>\n",
       "    <tr>\n",
       "      <th>2</th>\n",
       "      <td>Why do people who do not know what a particula...</td>\n",
       "      <td>0</td>\n",
       "    </tr>\n",
       "    <tr>\n",
       "      <th>3</th>\n",
       "      <td>Even though I have great interest in Biblical ...</td>\n",
       "      <td>0</td>\n",
       "    </tr>\n",
       "    <tr>\n",
       "      <th>4</th>\n",
       "      <td>Im a die hard Dads Army fan and nothing will e...</td>\n",
       "      <td>1</td>\n",
       "    </tr>\n",
       "  </tbody>\n",
       "</table>\n",
       "</div>"
      ],
      "text/plain": [
       "                                                text  label\n",
       "0  I grew up (b. 1965) watching and loving the Th...      0\n",
       "1  When I put this movie in my DVD player, and sa...      0\n",
       "2  Why do people who do not know what a particula...      0\n",
       "3  Even though I have great interest in Biblical ...      0\n",
       "4  Im a die hard Dads Army fan and nothing will e...      1"
      ]
     },
     "execution_count": 4,
     "metadata": {},
     "output_type": "execute_result"
    }
   ],
   "source": [
    "#exploring format of data in dataframe\n",
    "imdb_reviews.head()"
   ]
  },
  {
   "cell_type": "markdown",
   "id": "obvious-reverse",
   "metadata": {},
   "source": [
    "As you can see the dataframe consists of two columns, text and label\n",
    "\n",
    "The text column contains reviews and label column contains sentiment of the respective reviews\n",
    "\n",
    "\n",
    "Also let us see how many class of values the label column contains"
   ]
  },
  {
   "cell_type": "code",
   "execution_count": 5,
   "id": "convinced-treaty",
   "metadata": {},
   "outputs": [
    {
     "data": {
      "text/plain": [
       "0    20019\n",
       "1    19981\n",
       "Name: label, dtype: int64"
      ]
     },
     "execution_count": 5,
     "metadata": {},
     "output_type": "execute_result"
    }
   ],
   "source": [
    "imdb_reviews['label'].value_counts()"
   ]
  },
  {
   "cell_type": "markdown",
   "id": "dying-separate",
   "metadata": {},
   "source": [
    "We see that there are only two labels 0 and 1 and by going through data we can see that 0 refers to a negative review while 1 refers to a positive review\n",
    "\n",
    "We can determine this analyzing any row randomly like done below"
   ]
  },
  {
   "cell_type": "code",
   "execution_count": 6,
   "id": "amino-luxembourg",
   "metadata": {},
   "outputs": [
    {
     "name": "stdout",
     "output_type": "stream",
     "text": [
      "\n",
      "\n",
      "Example review:\n",
      "\n",
      " A terrible movie as everyone has said. What made me laugh was the cameo appearance by Scott McNealy, giving an award to one of the murdered programmers in front of a wall of SUN logos. McNealy is the CEO of SUN Microsystem, a company that practically defines itself by its hatred of Microsoft. They have been instrumental in filing antitrust complaints against Microsoft. So, were they silly enough to think this bad movie would add fuel to that fire?<br /><br />There's no public record I see of SUN's involvement, but clearly the makers of this movie know Scott McNealy. An interesting mystery.\n",
      "\n",
      "\n",
      "Sentiment label:\n",
      "\n",
      " 0\n",
      "\n",
      "\n",
      "Example review:\n",
      "\n",
      " Finally watched this shocking movie last night, and what a disturbing mindf**ker it is, and unbelievably bloody and some unforgettable scenes, and a total assault on the senses. Looks like a movie from the minds of Lynch (specifically ERASERHEAD), Buttgereit, and even a little of \"Begotten\". What this guy does to his pregnant sister is beyond belief, but then again, did it really happen or is it his brain's left and right sides doing battle. That's the main theme of this piece of art, to draw a fine line between fantasy and reality, and what would happen if the right side of the brain that dreams and fantasizes overtakes the reasoning and logical left side. And the music in this movie is unbelievable, a kind of electronic score that is absolutely perfect. Even though this movie is totally shocking and pretty disgusting in some of the most extreme scenes (including hard core sex) you will ever see in any movie, I viewed it as a work of art, and loved it. And that music still amazes me, I have to try and find the soundtrack if is available. Watching \"Subconscious Cruelty\" is a real event, and not something the viewer will easily forget. And a note to gorehounds, this is a must-have.<br /><br />Warning... Be careful buying this movie, because some prints have fogging on the graphic sex scenes and extreme gore, especially the copies from the Japanese release.\n",
      "\n",
      "\n",
      "Sentiment label:\n",
      "\n",
      " 1\n"
     ]
    }
   ],
   "source": [
    "print('\\n\\nExample review:\\n\\n',imdb_reviews['text'].to_list()[5])\n",
    "\n",
    "print('\\n\\nSentiment label:\\n\\n',imdb_reviews['label'].to_list()[5])\n",
    "\n",
    "print('\\n\\nExample review:\\n\\n',imdb_reviews['text'].to_list()[6])\n",
    "\n",
    "print('\\n\\nSentiment label:\\n\\n',imdb_reviews['label'].to_list()[6])"
   ]
  },
  {
   "cell_type": "markdown",
   "id": "spectacular-drain",
   "metadata": {},
   "source": [
    "#### Text Preprocessing\n",
    "\n",
    "We can see a lot of problems with the text above. Example, it contains some html tags, which is no use to us. It also contains symbols which might not be significant to us, so we first process our data"
   ]
  },
  {
   "cell_type": "code",
   "execution_count": 7,
   "id": "commercial-coaching",
   "metadata": {},
   "outputs": [],
   "source": [
    "#stopwords library from nltk package\n",
    "from nltk.corpus import stopwords\n",
    "#extracting english stopwords frm nltk package\n",
    "stop_words = set(stopwords.words('english'))\n",
    "#converting Set stopwords to list\n",
    "stop_word_list=list(stop_words)\n",
    "#function for preprocessing our reviews\n",
    "def preprocess_text(corpus):\n",
    "    # converting everything into lower case\n",
    "    corpus['text']=corpus['text'].str.lower()\n",
    "    #removing urls from the reviews using regular expressions(regex)\n",
    "    corpus['text']=corpus['text'].str.replace(r\"http\\S+\", \"\", regex=True)\n",
    "    #removing everything except alphabets and numbers from reviews\n",
    "    corpus['text']=corpus['text'].str.replace('[^A-Za-z0-9]+',' ', regex=True)\n",
    "    #removing stopwords(frequently occuring words) like a, and, the , are which has no significance in our review analysis\n",
    "    corpus['text']=corpus['text'].apply(lambda words: ' '.join(word.lower() for word in words.split() if word not in stop_word_list))\n",
    "    return corpus"
   ]
  },
  {
   "cell_type": "code",
   "execution_count": 8,
   "id": "simple-appeal",
   "metadata": {},
   "outputs": [],
   "source": [
    "#running the preprocessing function\n",
    "reviews=preprocess_text(imdb_reviews)"
   ]
  },
  {
   "cell_type": "code",
   "execution_count": 9,
   "id": "competent-novel",
   "metadata": {},
   "outputs": [
    {
     "data": {
      "text/html": [
       "<div>\n",
       "<style scoped>\n",
       "    .dataframe tbody tr th:only-of-type {\n",
       "        vertical-align: middle;\n",
       "    }\n",
       "\n",
       "    .dataframe tbody tr th {\n",
       "        vertical-align: top;\n",
       "    }\n",
       "\n",
       "    .dataframe thead th {\n",
       "        text-align: right;\n",
       "    }\n",
       "</style>\n",
       "<table border=\"1\" class=\"dataframe\">\n",
       "  <thead>\n",
       "    <tr style=\"text-align: right;\">\n",
       "      <th></th>\n",
       "      <th>text</th>\n",
       "      <th>label</th>\n",
       "    </tr>\n",
       "  </thead>\n",
       "  <tbody>\n",
       "    <tr>\n",
       "      <th>0</th>\n",
       "      <td>grew b 1965 watching loving thunderbirds mates...</td>\n",
       "      <td>0</td>\n",
       "    </tr>\n",
       "    <tr>\n",
       "      <th>1</th>\n",
       "      <td>put movie dvd player sat coke chips expectatio...</td>\n",
       "      <td>0</td>\n",
       "    </tr>\n",
       "    <tr>\n",
       "      <th>2</th>\n",
       "      <td>people know particular time past like feel nee...</td>\n",
       "      <td>0</td>\n",
       "    </tr>\n",
       "    <tr>\n",
       "      <th>3</th>\n",
       "      <td>even though great interest biblical movies bor...</td>\n",
       "      <td>0</td>\n",
       "    </tr>\n",
       "    <tr>\n",
       "      <th>4</th>\n",
       "      <td>im die hard dads army fan nothing ever change ...</td>\n",
       "      <td>1</td>\n",
       "    </tr>\n",
       "  </tbody>\n",
       "</table>\n",
       "</div>"
      ],
      "text/plain": [
       "                                                text  label\n",
       "0  grew b 1965 watching loving thunderbirds mates...      0\n",
       "1  put movie dvd player sat coke chips expectatio...      0\n",
       "2  people know particular time past like feel nee...      0\n",
       "3  even though great interest biblical movies bor...      0\n",
       "4  im die hard dads army fan nothing ever change ...      1"
      ]
     },
     "execution_count": 9,
     "metadata": {},
     "output_type": "execute_result"
    }
   ],
   "source": [
    "reviews.head()"
   ]
  },
  {
   "cell_type": "markdown",
   "id": "unauthorized-stewart",
   "metadata": {},
   "source": [
    "Notice the changes in our text column now after preprocessing.\n",
    "\n",
    "Now we are going to tokenize and lemmatize our data\n",
    "\n",
    "#### Tokenization\n",
    "\n",
    "Tokenization is the process of breaking down the sentence into words called tokens. These tokens help us in understanding the content and in the creation of our vocabulary. \n",
    "\n",
    "#### Lemmatization\n",
    "\n",
    "Lemmatization helps in reducing the word to its common base root word. It takes the help of linguistic analysis of the words.\n",
    "\n",
    "Eg. The base root word for <i>studies, stuying , studied</i> is <b>study</b>"
   ]
  },
  {
   "cell_type": "code",
   "execution_count": 10,
   "id": "attractive-factory",
   "metadata": {},
   "outputs": [
    {
     "name": "stderr",
     "output_type": "stream",
     "text": [
      "[nltk_data] Downloading package wordnet to /home/abhi/nltk_data...\n",
      "[nltk_data]   Package wordnet is already up-to-date!\n",
      "[nltk_data] Downloading package punkt to /home/abhi/nltk_data...\n",
      "[nltk_data]   Package punkt is already up-to-date!\n"
     ]
    },
    {
     "data": {
      "text/html": [
       "<div>\n",
       "<style scoped>\n",
       "    .dataframe tbody tr th:only-of-type {\n",
       "        vertical-align: middle;\n",
       "    }\n",
       "\n",
       "    .dataframe tbody tr th {\n",
       "        vertical-align: top;\n",
       "    }\n",
       "\n",
       "    .dataframe thead th {\n",
       "        text-align: right;\n",
       "    }\n",
       "</style>\n",
       "<table border=\"1\" class=\"dataframe\">\n",
       "  <thead>\n",
       "    <tr style=\"text-align: right;\">\n",
       "      <th></th>\n",
       "      <th>text</th>\n",
       "      <th>label</th>\n",
       "      <th>lemmatized_tokens</th>\n",
       "    </tr>\n",
       "  </thead>\n",
       "  <tbody>\n",
       "    <tr>\n",
       "      <th>0</th>\n",
       "      <td>grew b 1965 watching loving thunderbirds mates...</td>\n",
       "      <td>0</td>\n",
       "      <td>[grew, b, 1965, watching, loving, thunderbird,...</td>\n",
       "    </tr>\n",
       "    <tr>\n",
       "      <th>1</th>\n",
       "      <td>put movie dvd player sat coke chips expectatio...</td>\n",
       "      <td>0</td>\n",
       "      <td>[put, movie, dvd, player, sat, coke, chip, exp...</td>\n",
       "    </tr>\n",
       "    <tr>\n",
       "      <th>2</th>\n",
       "      <td>people know particular time past like feel nee...</td>\n",
       "      <td>0</td>\n",
       "      <td>[people, know, particular, time, past, like, f...</td>\n",
       "    </tr>\n",
       "    <tr>\n",
       "      <th>3</th>\n",
       "      <td>even though great interest biblical movies bor...</td>\n",
       "      <td>0</td>\n",
       "      <td>[even, though, great, interest, biblical, movi...</td>\n",
       "    </tr>\n",
       "    <tr>\n",
       "      <th>4</th>\n",
       "      <td>im die hard dads army fan nothing ever change ...</td>\n",
       "      <td>1</td>\n",
       "      <td>[im, die, hard, dad, army, fan, nothing, ever,...</td>\n",
       "    </tr>\n",
       "  </tbody>\n",
       "</table>\n",
       "</div>"
      ],
      "text/plain": [
       "                                                text  label  \\\n",
       "0  grew b 1965 watching loving thunderbirds mates...      0   \n",
       "1  put movie dvd player sat coke chips expectatio...      0   \n",
       "2  people know particular time past like feel nee...      0   \n",
       "3  even though great interest biblical movies bor...      0   \n",
       "4  im die hard dads army fan nothing ever change ...      1   \n",
       "\n",
       "                                   lemmatized_tokens  \n",
       "0  [grew, b, 1965, watching, loving, thunderbird,...  \n",
       "1  [put, movie, dvd, player, sat, coke, chip, exp...  \n",
       "2  [people, know, particular, time, past, like, f...  \n",
       "3  [even, though, great, interest, biblical, movi...  \n",
       "4  [im, die, hard, dad, army, fan, nothing, ever,...  "
      ]
     },
     "execution_count": 10,
     "metadata": {},
     "output_type": "execute_result"
    }
   ],
   "source": [
    "#import nltk library\n",
    "import nltk\n",
    "#download wordnet and punkt package from nltk, it will be required for tokenization and lemmatization\n",
    "nltk.download('wordnet')\n",
    "nltk.download('punkt')\n",
    "#intializing tokenizer object\n",
    "w_tokenizer=nltk.tokenize.WhitespaceTokenizer()\n",
    "#initializing lemmatizer object\n",
    "lemmatizer=nltk.stem.WordNetLemmatizer()\n",
    "\n",
    "#function for tokenizing and lemmatizing reviews\n",
    "def lemmatize_text(text):\n",
    "    return [lemmatizer.lemmatize(w) for w in w_tokenizer.tokenize(text)]\n",
    "#applying the above function\n",
    "reviews['lemmatized_tokens']=reviews['text'].apply(lemmatize_text)\n",
    "#viewing the updated reviews dataframe\n",
    "reviews.head()"
   ]
  },
  {
   "cell_type": "markdown",
   "id": "technological-seller",
   "metadata": {},
   "source": [
    "Now we have somewhat processed review data\n",
    "\n",
    "We can also perform some exploratory analysis tools to our reviews like analyzing frequent words in the review corpus and analyzing word combinations(bigrams) in the review corpus"
   ]
  },
  {
   "cell_type": "code",
   "execution_count": 11,
   "id": "unique-things",
   "metadata": {},
   "outputs": [
    {
     "data": {
      "image/png": "[encoded data removed]",
      "text/plain": [
       "<Figure size 864x576 with 1 Axes>"
      ]
     },
     "metadata": {
      "needs_background": "light"
     },
     "output_type": "display_data"
    }
   ],
   "source": [
    "import itertools\n",
    "import collections\n",
    "import matplotlib.pyplot as plt\n",
    "\n",
    "#Extracting tokenized and lemmatized reviews to a list\n",
    "lemmatized_tokens=list(reviews['lemmatized_tokens'])\n",
    "token_list=list(itertools.chain(*lemmatized_tokens))\n",
    "count_no=collections.Counter(token_list)\n",
    "clean_reviews=pd.DataFrame(count_no.most_common(30), columns=['words', 'count'])\n",
    "fig, ax=plt.subplots(figsize=(12,8))\n",
    "clean_reviews.sort_values(by='count').plot.barh(x='words', y='count', ax=ax, color=\"green\")\n",
    "ax.set_title(\"Most frequently used words in reviews\")\n",
    "plt.show()"
   ]
  },
  {
   "cell_type": "code",
   "execution_count": 12,
   "id": "everyday-philip",
   "metadata": {},
   "outputs": [
    {
     "data": {
      "image/png": "[encoded data removed]",
      "text/plain": [
       "<Figure size 864x576 with 1 Axes>"
      ]
     },
     "metadata": {
      "needs_background": "light"
     },
     "output_type": "display_data"
    }
   ],
   "source": [
    "# Analyzing bigrams\n",
    "bigrams=zip(token_list, token_list[1:])\n",
    "count_no= collections. Counter(bigrams)\n",
    "\n",
    "clean_reviews=pd.DataFrame(count_no.most_common(30), columns=['words', 'count'])\n",
    "fig, ax=plt.subplots(figsize=(12,8))\n",
    "clean_reviews.sort_values(by='count').plot.barh(x='words', y='count', ax=ax, color=\"green\")\n",
    "ax.set_title(\"Most frequently used words in reviews\")\n",
    "plt.show()"
   ]
  },
  {
   "cell_type": "markdown",
   "id": "armed-turkish",
   "metadata": {},
   "source": [
    "### Model Building"
   ]
  },
  {
   "cell_type": "markdown",
   "id": "eight-fever",
   "metadata": {},
   "source": [
    "Here we will be using Ligh Gradient Boosting Machine (Light GBM) as our model. It is similar to XGBoost that uses tree based learning algorithms. \n",
    "- Achieves Faster Charging\n",
    "- Low memory usage\n",
    "- Better Accuracy\n",
    "- Support for GPU computing\n",
    "- Capable of handling lage data\n",
    "\n",
    "We will also be using TFIDF Vectorizer for Word Embedding\n"
   ]
  },
  {
   "cell_type": "code",
   "execution_count": 13,
   "id": "cloudy-manufacturer",
   "metadata": {},
   "outputs": [],
   "source": [
    "from sklearn.feature_extraction.text import TfidfVectorizer\n",
    "tfidf_vectorizer=TfidfVectorizer(max_features=2000)\n",
    "#extracting features using tfidf in array format\n",
    "features=tfidf_vectorizer.fit_transform(reviews['text']).toarray()"
   ]
  },
  {
   "cell_type": "code",
   "execution_count": 17,
   "id": "alike-factor",
   "metadata": {},
   "outputs": [
    {
     "data": {
      "text/plain": [
       "LGBMClassifier(max_depth=20, min_child_weight=0.0016, n_estimators=25)"
      ]
     },
     "execution_count": 17,
     "metadata": {},
     "output_type": "execute_result"
    }
   ],
   "source": [
    "#import model library\n",
    "import lightgbm as lgb\n",
    "#import train test split module\n",
    "from sklearn.model_selection import train_test_split\n",
    "#import libraries for model metrics\n",
    "from sklearn.metrics import confusion_matrix, classification_report, accuracy_score\n",
    "#outputs\n",
    "target=reviews['label']\n",
    "#splitting training data to train and test\n",
    "x_train, x_test, y_train, y_test=train_test_split(features, target, test_size=0.25)\n",
    "#initializing model with hyperparameters, read documentation of the model for more details on hyperparameters\n",
    "clf=lgb.LGBMClassifier(max_depth=20, n_estimators=25, min_child_weight=0.0016, n_jobs=-1)\n",
    "#apply the training input and output for model to learn \n",
    "clf.fit(x_train, y_train)"
   ]
  },
  {
   "cell_type": "code",
   "execution_count": 18,
   "id": "virtual-russian",
   "metadata": {},
   "outputs": [
    {
     "name": "stdout",
     "output_type": "stream",
     "text": [
      "Test data accuracy is:  0.7946\n",
      "              precision    recall  f1-score   support\n",
      "\n",
      "           0       0.81      0.77      0.79      5015\n",
      "           1       0.78      0.82      0.80      4985\n",
      "\n",
      "    accuracy                           0.79     10000\n",
      "   macro avg       0.80      0.79      0.79     10000\n",
      "weighted avg       0.80      0.79      0.79     10000\n",
      "\n"
     ]
    }
   ],
   "source": [
    "#run prediction on trained model with test data\n",
    "pred=clf.predict(x_test)\n",
    "print(\"Test data accuracy is: \", accuracy_score(y_test, pred))\n",
    "print(classification_report(y_test, pred))"
   ]
  },
  {
   "cell_type": "code",
   "execution_count": null,
   "id": "vital-fabric",
   "metadata": {},
   "outputs": [],
   "source": []
  },
  {
   "cell_type": "code",
   "execution_count": null,
   "id": "terminal-adoption",
   "metadata": {},
   "outputs": [],
   "source": []
  }
 ],
 "metadata": {
  "kernelspec": {
   "display_name": "Python 3 (ipykernel)",
   "language": "python",
   "name": "python3"
  },
  "language_info": {
   "codemirror_mode": {
    "name": "ipython",
    "version": 3
   },
   "file_extension": ".py",
   "mimetype": "text/x-python",
   "name": "python",
   "nbconvert_exporter": "python",
   "pygments_lexer": "ipython3",
   "version": "3.9.5"
  }
 },
 "nbformat": 4,
 "nbformat_minor": 5
}
